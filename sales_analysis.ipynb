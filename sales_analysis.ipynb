{
 "cells": [
  {
   "cell_type": "code",
   "execution_count": 49,
   "metadata": {},
   "outputs": [],
   "source": [
    "import pandas as pd\n",
    "import numpy as np\n",
    "import matplotlib.pyplot as plt "
   ]
  },
  {
   "cell_type": "markdown",
   "metadata": {},
   "source": [
    "##### 1. Load the Data:"
   ]
  },
  {
   "cell_type": "code",
   "execution_count": 50,
   "metadata": {},
   "outputs": [],
   "source": [
    "sales = pd.read_csv(r'C:\\Users\\oxysa\\Desktop\\NAVTACC\\sales_data.csv')\n"
   ]
  },
  {
   "cell_type": "markdown",
   "metadata": {},
   "source": [
    "###### 2. Basic Exploration"
   ]
  },
  {
   "cell_type": "code",
   "execution_count": 51,
   "metadata": {},
   "outputs": [
    {
     "data": {
      "text/html": [
       "<div>\n",
       "<style scoped>\n",
       "    .dataframe tbody tr th:only-of-type {\n",
       "        vertical-align: middle;\n",
       "    }\n",
       "\n",
       "    .dataframe tbody tr th {\n",
       "        vertical-align: top;\n",
       "    }\n",
       "\n",
       "    .dataframe thead th {\n",
       "        text-align: right;\n",
       "    }\n",
       "</style>\n",
       "<table border=\"1\" class=\"dataframe\">\n",
       "  <thead>\n",
       "    <tr style=\"text-align: right;\">\n",
       "      <th></th>\n",
       "      <th>Date</th>\n",
       "      <th>Store</th>\n",
       "      <th>Product</th>\n",
       "      <th>Quantity</th>\n",
       "      <th>Revenue</th>\n",
       "    </tr>\n",
       "  </thead>\n",
       "  <tbody>\n",
       "    <tr>\n",
       "      <th>0</th>\n",
       "      <td>2023-01-01</td>\n",
       "      <td>Store 1</td>\n",
       "      <td>Product A</td>\n",
       "      <td>10</td>\n",
       "      <td>100</td>\n",
       "    </tr>\n",
       "    <tr>\n",
       "      <th>1</th>\n",
       "      <td>2023-01-02</td>\n",
       "      <td>Store 1</td>\n",
       "      <td>Product B</td>\n",
       "      <td>5</td>\n",
       "      <td>75</td>\n",
       "    </tr>\n",
       "    <tr>\n",
       "      <th>2</th>\n",
       "      <td>2023-01-03</td>\n",
       "      <td>Store 2</td>\n",
       "      <td>Product A</td>\n",
       "      <td>20</td>\n",
       "      <td>200</td>\n",
       "    </tr>\n",
       "    <tr>\n",
       "      <th>3</th>\n",
       "      <td>2023-01-04</td>\n",
       "      <td>Store 2</td>\n",
       "      <td>Product C</td>\n",
       "      <td>8</td>\n",
       "      <td>120</td>\n",
       "    </tr>\n",
       "    <tr>\n",
       "      <th>4</th>\n",
       "      <td>2023-01-05</td>\n",
       "      <td>Store 3</td>\n",
       "      <td>Product B</td>\n",
       "      <td>15</td>\n",
       "      <td>150</td>\n",
       "    </tr>\n",
       "    <tr>\n",
       "      <th>5</th>\n",
       "      <td>2023-01-06</td>\n",
       "      <td>Store 3</td>\n",
       "      <td>Product A</td>\n",
       "      <td>30</td>\n",
       "      <td>300</td>\n",
       "    </tr>\n",
       "    <tr>\n",
       "      <th>6</th>\n",
       "      <td>2023-01-07</td>\n",
       "      <td>Store 1</td>\n",
       "      <td>Product C</td>\n",
       "      <td>12</td>\n",
       "      <td>180</td>\n",
       "    </tr>\n",
       "    <tr>\n",
       "      <th>7</th>\n",
       "      <td>2023-01-08</td>\n",
       "      <td>Store 1</td>\n",
       "      <td>Product A</td>\n",
       "      <td>8</td>\n",
       "      <td>80</td>\n",
       "    </tr>\n",
       "    <tr>\n",
       "      <th>8</th>\n",
       "      <td>2023-01-09</td>\n",
       "      <td>Store 2</td>\n",
       "      <td>Product B</td>\n",
       "      <td>10</td>\n",
       "      <td>100</td>\n",
       "    </tr>\n",
       "    <tr>\n",
       "      <th>9</th>\n",
       "      <td>2023-01-10</td>\n",
       "      <td>Store 3</td>\n",
       "      <td>Product C</td>\n",
       "      <td>6</td>\n",
       "      <td>90</td>\n",
       "    </tr>\n",
       "  </tbody>\n",
       "</table>\n",
       "</div>"
      ],
      "text/plain": [
       "         Date    Store    Product  Quantity  Revenue\n",
       "0  2023-01-01  Store 1  Product A        10      100\n",
       "1  2023-01-02  Store 1  Product B         5       75\n",
       "2  2023-01-03  Store 2  Product A        20      200\n",
       "3  2023-01-04  Store 2  Product C         8      120\n",
       "4  2023-01-05  Store 3  Product B        15      150\n",
       "5  2023-01-06  Store 3  Product A        30      300\n",
       "6  2023-01-07  Store 1  Product C        12      180\n",
       "7  2023-01-08  Store 1  Product A         8       80\n",
       "8  2023-01-09  Store 2  Product B        10      100\n",
       "9  2023-01-10  Store 3  Product C         6       90"
      ]
     },
     "execution_count": 51,
     "metadata": {},
     "output_type": "execute_result"
    }
   ],
   "source": [
    "sales.head(10)"
   ]
  },
  {
   "cell_type": "code",
   "execution_count": 52,
   "metadata": {},
   "outputs": [
    {
     "data": {
      "text/html": [
       "<div>\n",
       "<style scoped>\n",
       "    .dataframe tbody tr th:only-of-type {\n",
       "        vertical-align: middle;\n",
       "    }\n",
       "\n",
       "    .dataframe tbody tr th {\n",
       "        vertical-align: top;\n",
       "    }\n",
       "\n",
       "    .dataframe thead th {\n",
       "        text-align: right;\n",
       "    }\n",
       "</style>\n",
       "<table border=\"1\" class=\"dataframe\">\n",
       "  <thead>\n",
       "    <tr style=\"text-align: right;\">\n",
       "      <th></th>\n",
       "      <th>Quantity</th>\n",
       "      <th>Revenue</th>\n",
       "    </tr>\n",
       "  </thead>\n",
       "  <tbody>\n",
       "    <tr>\n",
       "      <th>count</th>\n",
       "      <td>15.000000</td>\n",
       "      <td>15.00000</td>\n",
       "    </tr>\n",
       "    <tr>\n",
       "      <th>mean</th>\n",
       "      <td>13.400000</td>\n",
       "      <td>144.00000</td>\n",
       "    </tr>\n",
       "    <tr>\n",
       "      <th>std</th>\n",
       "      <td>7.169379</td>\n",
       "      <td>67.67042</td>\n",
       "    </tr>\n",
       "    <tr>\n",
       "      <th>min</th>\n",
       "      <td>5.000000</td>\n",
       "      <td>70.00000</td>\n",
       "    </tr>\n",
       "    <tr>\n",
       "      <th>25%</th>\n",
       "      <td>8.500000</td>\n",
       "      <td>95.00000</td>\n",
       "    </tr>\n",
       "    <tr>\n",
       "      <th>50%</th>\n",
       "      <td>10.000000</td>\n",
       "      <td>120.00000</td>\n",
       "    </tr>\n",
       "    <tr>\n",
       "      <th>75%</th>\n",
       "      <td>16.500000</td>\n",
       "      <td>177.50000</td>\n",
       "    </tr>\n",
       "    <tr>\n",
       "      <th>max</th>\n",
       "      <td>30.000000</td>\n",
       "      <td>300.00000</td>\n",
       "    </tr>\n",
       "  </tbody>\n",
       "</table>\n",
       "</div>"
      ],
      "text/plain": [
       "        Quantity    Revenue\n",
       "count  15.000000   15.00000\n",
       "mean   13.400000  144.00000\n",
       "std     7.169379   67.67042\n",
       "min     5.000000   70.00000\n",
       "25%     8.500000   95.00000\n",
       "50%    10.000000  120.00000\n",
       "75%    16.500000  177.50000\n",
       "max    30.000000  300.00000"
      ]
     },
     "execution_count": 52,
     "metadata": {},
     "output_type": "execute_result"
    }
   ],
   "source": [
    "sales.describe()"
   ]
  },
  {
   "cell_type": "code",
   "execution_count": 53,
   "metadata": {},
   "outputs": [
    {
     "data": {
      "text/plain": [
       "array(['Store 1', 'Store 2', 'Store 3'], dtype=object)"
      ]
     },
     "execution_count": 53,
     "metadata": {},
     "output_type": "execute_result"
    }
   ],
   "source": [
    "sales.Store.unique()\n"
   ]
  },
  {
   "cell_type": "code",
   "execution_count": 54,
   "metadata": {},
   "outputs": [
    {
     "name": "stdout",
     "output_type": "stream",
     "text": [
      "No of Unique files in Product =  3\n"
     ]
    }
   ],
   "source": [
    "pro_No = sales.Product.nunique()\n",
    "print('No of Unique files in Product = ',pro_No)"
   ]
  },
  {
   "cell_type": "code",
   "execution_count": 55,
   "metadata": {},
   "outputs": [
    {
     "data": {
      "text/plain": [
       "Store\n",
       "Store 1    505\n",
       "Store 2    780\n",
       "Store 3    875\n",
       "Name: Revenue, dtype: int64"
      ]
     },
     "execution_count": 55,
     "metadata": {},
     "output_type": "execute_result"
    }
   ],
   "source": [
    "sales.groupby('Store')['Revenue'].sum()"
   ]
  },
  {
   "cell_type": "markdown",
   "metadata": {},
   "source": [
    "##### 3.Numpy Operation"
   ]
  },
  {
   "cell_type": "code",
   "execution_count": 56,
   "metadata": {},
   "outputs": [
    {
     "data": {
      "text/plain": [
       "array([10,  5, 20,  8, 15, 30, 12,  8, 10,  6, 25, 10, 15,  9, 18])"
      ]
     },
     "execution_count": 56,
     "metadata": {},
     "output_type": "execute_result"
    }
   ],
   "source": [
    "quantity = sales.Quantity.to_numpy()\n",
    "quantity"
   ]
  },
  {
   "cell_type": "code",
   "execution_count": 57,
   "metadata": {},
   "outputs": [
    {
     "name": "stdout",
     "output_type": "stream",
     "text": [
      "Average quantity Sold 13.4\n",
      "Meadian in quantity 10.0\n",
      "SD of quantity 6.93\n"
     ]
    }
   ],
   "source": [
    "avg = np.mean(quantity)\n",
    "median = np.median(quantity)\n",
    "std = np.std(quantity)\n",
    "print('Average quantity Sold',avg)\n",
    "print('Meadian in quantity',median)\n",
    "print(f'SD of quantity {std:.2f}')"
   ]
  },
  {
   "cell_type": "code",
   "execution_count": 58,
   "metadata": {},
   "outputs": [
    {
     "data": {
      "text/plain": [
       "array([3.16227766, 2.23606798, 4.47213595, 2.82842712, 3.87298335,\n",
       "       5.47722558, 3.46410162, 2.82842712, 3.16227766, 2.44948974,\n",
       "       5.        , 3.16227766, 3.87298335, 3.        , 4.24264069])"
      ]
     },
     "execution_count": 58,
     "metadata": {},
     "output_type": "execute_result"
    }
   ],
   "source": [
    "np.sqrt(quantity)"
   ]
  },
  {
   "cell_type": "markdown",
   "metadata": {},
   "source": [
    "##### 4.Data Manipulation with pandas"
   ]
  },
  {
   "cell_type": "code",
   "execution_count": 59,
   "metadata": {},
   "outputs": [
    {
     "data": {
      "text/html": [
       "<div>\n",
       "<style scoped>\n",
       "    .dataframe tbody tr th:only-of-type {\n",
       "        vertical-align: middle;\n",
       "    }\n",
       "\n",
       "    .dataframe tbody tr th {\n",
       "        vertical-align: top;\n",
       "    }\n",
       "\n",
       "    .dataframe thead th {\n",
       "        text-align: right;\n",
       "    }\n",
       "</style>\n",
       "<table border=\"1\" class=\"dataframe\">\n",
       "  <thead>\n",
       "    <tr style=\"text-align: right;\">\n",
       "      <th></th>\n",
       "      <th>Date</th>\n",
       "      <th>Store</th>\n",
       "      <th>Product</th>\n",
       "      <th>Quantity</th>\n",
       "      <th>Revenue</th>\n",
       "      <th>Revenue_per_unit</th>\n",
       "    </tr>\n",
       "  </thead>\n",
       "  <tbody>\n",
       "    <tr>\n",
       "      <th>0</th>\n",
       "      <td>2023-01-01</td>\n",
       "      <td>Store 1</td>\n",
       "      <td>Product A</td>\n",
       "      <td>10</td>\n",
       "      <td>100</td>\n",
       "      <td>10.000000</td>\n",
       "    </tr>\n",
       "    <tr>\n",
       "      <th>1</th>\n",
       "      <td>2023-01-02</td>\n",
       "      <td>Store 1</td>\n",
       "      <td>Product B</td>\n",
       "      <td>5</td>\n",
       "      <td>75</td>\n",
       "      <td>15.000000</td>\n",
       "    </tr>\n",
       "    <tr>\n",
       "      <th>2</th>\n",
       "      <td>2023-01-03</td>\n",
       "      <td>Store 2</td>\n",
       "      <td>Product A</td>\n",
       "      <td>20</td>\n",
       "      <td>200</td>\n",
       "      <td>10.000000</td>\n",
       "    </tr>\n",
       "    <tr>\n",
       "      <th>3</th>\n",
       "      <td>2023-01-04</td>\n",
       "      <td>Store 2</td>\n",
       "      <td>Product C</td>\n",
       "      <td>8</td>\n",
       "      <td>120</td>\n",
       "      <td>15.000000</td>\n",
       "    </tr>\n",
       "    <tr>\n",
       "      <th>4</th>\n",
       "      <td>2023-01-05</td>\n",
       "      <td>Store 3</td>\n",
       "      <td>Product B</td>\n",
       "      <td>15</td>\n",
       "      <td>150</td>\n",
       "      <td>10.000000</td>\n",
       "    </tr>\n",
       "    <tr>\n",
       "      <th>5</th>\n",
       "      <td>2023-01-06</td>\n",
       "      <td>Store 3</td>\n",
       "      <td>Product A</td>\n",
       "      <td>30</td>\n",
       "      <td>300</td>\n",
       "      <td>10.000000</td>\n",
       "    </tr>\n",
       "    <tr>\n",
       "      <th>6</th>\n",
       "      <td>2023-01-07</td>\n",
       "      <td>Store 1</td>\n",
       "      <td>Product C</td>\n",
       "      <td>12</td>\n",
       "      <td>180</td>\n",
       "      <td>15.000000</td>\n",
       "    </tr>\n",
       "    <tr>\n",
       "      <th>7</th>\n",
       "      <td>2023-01-08</td>\n",
       "      <td>Store 1</td>\n",
       "      <td>Product A</td>\n",
       "      <td>8</td>\n",
       "      <td>80</td>\n",
       "      <td>10.000000</td>\n",
       "    </tr>\n",
       "    <tr>\n",
       "      <th>8</th>\n",
       "      <td>2023-01-09</td>\n",
       "      <td>Store 2</td>\n",
       "      <td>Product B</td>\n",
       "      <td>10</td>\n",
       "      <td>100</td>\n",
       "      <td>10.000000</td>\n",
       "    </tr>\n",
       "    <tr>\n",
       "      <th>9</th>\n",
       "      <td>2023-01-10</td>\n",
       "      <td>Store 3</td>\n",
       "      <td>Product C</td>\n",
       "      <td>6</td>\n",
       "      <td>90</td>\n",
       "      <td>15.000000</td>\n",
       "    </tr>\n",
       "    <tr>\n",
       "      <th>10</th>\n",
       "      <td>2023-01-11</td>\n",
       "      <td>Store 2</td>\n",
       "      <td>Product A</td>\n",
       "      <td>25</td>\n",
       "      <td>250</td>\n",
       "      <td>10.000000</td>\n",
       "    </tr>\n",
       "    <tr>\n",
       "      <th>11</th>\n",
       "      <td>2023-01-12</td>\n",
       "      <td>Store 1</td>\n",
       "      <td>Product B</td>\n",
       "      <td>10</td>\n",
       "      <td>70</td>\n",
       "      <td>7.000000</td>\n",
       "    </tr>\n",
       "    <tr>\n",
       "      <th>12</th>\n",
       "      <td>2023-01-13</td>\n",
       "      <td>Store 3</td>\n",
       "      <td>Product A</td>\n",
       "      <td>15</td>\n",
       "      <td>160</td>\n",
       "      <td>10.666667</td>\n",
       "    </tr>\n",
       "    <tr>\n",
       "      <th>13</th>\n",
       "      <td>2023-01-14</td>\n",
       "      <td>Store 2</td>\n",
       "      <td>Product C</td>\n",
       "      <td>9</td>\n",
       "      <td>110</td>\n",
       "      <td>12.222222</td>\n",
       "    </tr>\n",
       "    <tr>\n",
       "      <th>14</th>\n",
       "      <td>2023-01-15</td>\n",
       "      <td>Store 3</td>\n",
       "      <td>Product B</td>\n",
       "      <td>18</td>\n",
       "      <td>175</td>\n",
       "      <td>9.722222</td>\n",
       "    </tr>\n",
       "  </tbody>\n",
       "</table>\n",
       "</div>"
      ],
      "text/plain": [
       "          Date    Store    Product  Quantity  Revenue  Revenue_per_unit\n",
       "0   2023-01-01  Store 1  Product A        10      100         10.000000\n",
       "1   2023-01-02  Store 1  Product B         5       75         15.000000\n",
       "2   2023-01-03  Store 2  Product A        20      200         10.000000\n",
       "3   2023-01-04  Store 2  Product C         8      120         15.000000\n",
       "4   2023-01-05  Store 3  Product B        15      150         10.000000\n",
       "5   2023-01-06  Store 3  Product A        30      300         10.000000\n",
       "6   2023-01-07  Store 1  Product C        12      180         15.000000\n",
       "7   2023-01-08  Store 1  Product A         8       80         10.000000\n",
       "8   2023-01-09  Store 2  Product B        10      100         10.000000\n",
       "9   2023-01-10  Store 3  Product C         6       90         15.000000\n",
       "10  2023-01-11  Store 2  Product A        25      250         10.000000\n",
       "11  2023-01-12  Store 1  Product B        10       70          7.000000\n",
       "12  2023-01-13  Store 3  Product A        15      160         10.666667\n",
       "13  2023-01-14  Store 2  Product C         9      110         12.222222\n",
       "14  2023-01-15  Store 3  Product B        18      175          9.722222"
      ]
     },
     "execution_count": 59,
     "metadata": {},
     "output_type": "execute_result"
    }
   ],
   "source": [
    "sales['Revenue_per_unit'] = sales.Revenue/sales.Quantity\n",
    "sales"
   ]
  },
  {
   "cell_type": "code",
   "execution_count": 60,
   "metadata": {},
   "outputs": [
    {
     "data": {
      "text/plain": [
       "Product\n",
       "Product A    1090\n",
       "Product B     570\n",
       "Product C     500\n",
       "Name: Revenue, dtype: int64"
      ]
     },
     "execution_count": 60,
     "metadata": {},
     "output_type": "execute_result"
    }
   ],
   "source": [
    "product_revenue = sales.groupby('Product')['Revenue'].sum()\n",
    "product_revenue"
   ]
  },
  {
   "cell_type": "code",
   "execution_count": 61,
   "metadata": {},
   "outputs": [
    {
     "data": {
      "text/plain": [
       "Store\n",
       "Store 1    505\n",
       "Store 2    780\n",
       "Store 3    875\n",
       "Name: Revenue, dtype: int64"
      ]
     },
     "execution_count": 61,
     "metadata": {},
     "output_type": "execute_result"
    }
   ],
   "source": [
    "sales.groupby('Store')['Revenue'].sum()"
   ]
  },
  {
   "cell_type": "code",
   "execution_count": 62,
   "metadata": {},
   "outputs": [
    {
     "data": {
      "text/plain": [
       "Store    Product  \n",
       "Store 1  Product A    18\n",
       "         Product B    15\n",
       "         Product C    12\n",
       "Store 2  Product A    45\n",
       "         Product B    10\n",
       "         Product C    17\n",
       "Store 3  Product A    45\n",
       "         Product B    33\n",
       "         Product C     6\n",
       "Name: Quantity, dtype: int64"
      ]
     },
     "execution_count": 62,
     "metadata": {},
     "output_type": "execute_result"
    }
   ],
   "source": [
    "sales.groupby(['Store','Product'])['Quantity'].sum()"
   ]
  },
  {
   "cell_type": "code",
   "execution_count": 63,
   "metadata": {},
   "outputs": [
    {
     "data": {
      "text/html": [
       "<div>\n",
       "<style scoped>\n",
       "    .dataframe tbody tr th:only-of-type {\n",
       "        vertical-align: middle;\n",
       "    }\n",
       "\n",
       "    .dataframe tbody tr th {\n",
       "        vertical-align: top;\n",
       "    }\n",
       "\n",
       "    .dataframe thead th {\n",
       "        text-align: right;\n",
       "    }\n",
       "</style>\n",
       "<table border=\"1\" class=\"dataframe\">\n",
       "  <thead>\n",
       "    <tr style=\"text-align: right;\">\n",
       "      <th></th>\n",
       "      <th>Date</th>\n",
       "      <th>Store</th>\n",
       "      <th>Product</th>\n",
       "      <th>Quantity</th>\n",
       "      <th>Revenue</th>\n",
       "      <th>Revenue_per_unit</th>\n",
       "    </tr>\n",
       "  </thead>\n",
       "  <tbody>\n",
       "    <tr>\n",
       "      <th>1</th>\n",
       "      <td>2023-01-02</td>\n",
       "      <td>Store 1</td>\n",
       "      <td>Product B</td>\n",
       "      <td>5</td>\n",
       "      <td>75</td>\n",
       "      <td>15.000000</td>\n",
       "    </tr>\n",
       "    <tr>\n",
       "      <th>3</th>\n",
       "      <td>2023-01-04</td>\n",
       "      <td>Store 2</td>\n",
       "      <td>Product C</td>\n",
       "      <td>8</td>\n",
       "      <td>120</td>\n",
       "      <td>15.000000</td>\n",
       "    </tr>\n",
       "    <tr>\n",
       "      <th>6</th>\n",
       "      <td>2023-01-07</td>\n",
       "      <td>Store 1</td>\n",
       "      <td>Product C</td>\n",
       "      <td>12</td>\n",
       "      <td>180</td>\n",
       "      <td>15.000000</td>\n",
       "    </tr>\n",
       "    <tr>\n",
       "      <th>9</th>\n",
       "      <td>2023-01-10</td>\n",
       "      <td>Store 3</td>\n",
       "      <td>Product C</td>\n",
       "      <td>6</td>\n",
       "      <td>90</td>\n",
       "      <td>15.000000</td>\n",
       "    </tr>\n",
       "    <tr>\n",
       "      <th>13</th>\n",
       "      <td>2023-01-14</td>\n",
       "      <td>Store 2</td>\n",
       "      <td>Product C</td>\n",
       "      <td>9</td>\n",
       "      <td>110</td>\n",
       "      <td>12.222222</td>\n",
       "    </tr>\n",
       "  </tbody>\n",
       "</table>\n",
       "</div>"
      ],
      "text/plain": [
       "          Date    Store    Product  Quantity  Revenue  Revenue_per_unit\n",
       "1   2023-01-02  Store 1  Product B         5       75         15.000000\n",
       "3   2023-01-04  Store 2  Product C         8      120         15.000000\n",
       "6   2023-01-07  Store 1  Product C        12      180         15.000000\n",
       "9   2023-01-10  Store 3  Product C         6       90         15.000000\n",
       "13  2023-01-14  Store 2  Product C         9      110         12.222222"
      ]
     },
     "execution_count": 63,
     "metadata": {},
     "output_type": "execute_result"
    }
   ],
   "source": [
    "avg_rev = sales[sales.Revenue_per_unit > sales.Revenue_per_unit.mean()]\n",
    "avg_rev"
   ]
  },
  {
   "cell_type": "code",
   "execution_count": 64,
   "metadata": {},
   "outputs": [
    {
     "data": {
      "text/html": [
       "<div>\n",
       "<style scoped>\n",
       "    .dataframe tbody tr th:only-of-type {\n",
       "        vertical-align: middle;\n",
       "    }\n",
       "\n",
       "    .dataframe tbody tr th {\n",
       "        vertical-align: top;\n",
       "    }\n",
       "\n",
       "    .dataframe thead th {\n",
       "        text-align: right;\n",
       "    }\n",
       "</style>\n",
       "<table border=\"1\" class=\"dataframe\">\n",
       "  <thead>\n",
       "    <tr style=\"text-align: right;\">\n",
       "      <th></th>\n",
       "      <th>Date</th>\n",
       "      <th>Store</th>\n",
       "      <th>Product</th>\n",
       "      <th>Quantity</th>\n",
       "      <th>Revenue</th>\n",
       "      <th>Revenue_per_unit</th>\n",
       "      <th>Cumulative_Revenue</th>\n",
       "    </tr>\n",
       "  </thead>\n",
       "  <tbody>\n",
       "    <tr>\n",
       "      <th>0</th>\n",
       "      <td>2023-01-01</td>\n",
       "      <td>Store 1</td>\n",
       "      <td>Product A</td>\n",
       "      <td>10</td>\n",
       "      <td>100</td>\n",
       "      <td>10.000000</td>\n",
       "      <td>100</td>\n",
       "    </tr>\n",
       "    <tr>\n",
       "      <th>1</th>\n",
       "      <td>2023-01-02</td>\n",
       "      <td>Store 1</td>\n",
       "      <td>Product B</td>\n",
       "      <td>5</td>\n",
       "      <td>75</td>\n",
       "      <td>15.000000</td>\n",
       "      <td>75</td>\n",
       "    </tr>\n",
       "    <tr>\n",
       "      <th>2</th>\n",
       "      <td>2023-01-03</td>\n",
       "      <td>Store 2</td>\n",
       "      <td>Product A</td>\n",
       "      <td>20</td>\n",
       "      <td>200</td>\n",
       "      <td>10.000000</td>\n",
       "      <td>200</td>\n",
       "    </tr>\n",
       "    <tr>\n",
       "      <th>3</th>\n",
       "      <td>2023-01-04</td>\n",
       "      <td>Store 2</td>\n",
       "      <td>Product C</td>\n",
       "      <td>8</td>\n",
       "      <td>120</td>\n",
       "      <td>15.000000</td>\n",
       "      <td>120</td>\n",
       "    </tr>\n",
       "    <tr>\n",
       "      <th>4</th>\n",
       "      <td>2023-01-05</td>\n",
       "      <td>Store 3</td>\n",
       "      <td>Product B</td>\n",
       "      <td>15</td>\n",
       "      <td>150</td>\n",
       "      <td>10.000000</td>\n",
       "      <td>150</td>\n",
       "    </tr>\n",
       "    <tr>\n",
       "      <th>5</th>\n",
       "      <td>2023-01-06</td>\n",
       "      <td>Store 3</td>\n",
       "      <td>Product A</td>\n",
       "      <td>30</td>\n",
       "      <td>300</td>\n",
       "      <td>10.000000</td>\n",
       "      <td>300</td>\n",
       "    </tr>\n",
       "    <tr>\n",
       "      <th>6</th>\n",
       "      <td>2023-01-07</td>\n",
       "      <td>Store 1</td>\n",
       "      <td>Product C</td>\n",
       "      <td>12</td>\n",
       "      <td>180</td>\n",
       "      <td>15.000000</td>\n",
       "      <td>180</td>\n",
       "    </tr>\n",
       "    <tr>\n",
       "      <th>7</th>\n",
       "      <td>2023-01-08</td>\n",
       "      <td>Store 1</td>\n",
       "      <td>Product A</td>\n",
       "      <td>8</td>\n",
       "      <td>80</td>\n",
       "      <td>10.000000</td>\n",
       "      <td>80</td>\n",
       "    </tr>\n",
       "    <tr>\n",
       "      <th>8</th>\n",
       "      <td>2023-01-09</td>\n",
       "      <td>Store 2</td>\n",
       "      <td>Product B</td>\n",
       "      <td>10</td>\n",
       "      <td>100</td>\n",
       "      <td>10.000000</td>\n",
       "      <td>100</td>\n",
       "    </tr>\n",
       "    <tr>\n",
       "      <th>9</th>\n",
       "      <td>2023-01-10</td>\n",
       "      <td>Store 3</td>\n",
       "      <td>Product C</td>\n",
       "      <td>6</td>\n",
       "      <td>90</td>\n",
       "      <td>15.000000</td>\n",
       "      <td>90</td>\n",
       "    </tr>\n",
       "    <tr>\n",
       "      <th>10</th>\n",
       "      <td>2023-01-11</td>\n",
       "      <td>Store 2</td>\n",
       "      <td>Product A</td>\n",
       "      <td>25</td>\n",
       "      <td>250</td>\n",
       "      <td>10.000000</td>\n",
       "      <td>250</td>\n",
       "    </tr>\n",
       "    <tr>\n",
       "      <th>11</th>\n",
       "      <td>2023-01-12</td>\n",
       "      <td>Store 1</td>\n",
       "      <td>Product B</td>\n",
       "      <td>10</td>\n",
       "      <td>70</td>\n",
       "      <td>7.000000</td>\n",
       "      <td>70</td>\n",
       "    </tr>\n",
       "    <tr>\n",
       "      <th>12</th>\n",
       "      <td>2023-01-13</td>\n",
       "      <td>Store 3</td>\n",
       "      <td>Product A</td>\n",
       "      <td>15</td>\n",
       "      <td>160</td>\n",
       "      <td>10.666667</td>\n",
       "      <td>160</td>\n",
       "    </tr>\n",
       "    <tr>\n",
       "      <th>13</th>\n",
       "      <td>2023-01-14</td>\n",
       "      <td>Store 2</td>\n",
       "      <td>Product C</td>\n",
       "      <td>9</td>\n",
       "      <td>110</td>\n",
       "      <td>12.222222</td>\n",
       "      <td>110</td>\n",
       "    </tr>\n",
       "    <tr>\n",
       "      <th>14</th>\n",
       "      <td>2023-01-15</td>\n",
       "      <td>Store 3</td>\n",
       "      <td>Product B</td>\n",
       "      <td>18</td>\n",
       "      <td>175</td>\n",
       "      <td>9.722222</td>\n",
       "      <td>175</td>\n",
       "    </tr>\n",
       "  </tbody>\n",
       "</table>\n",
       "</div>"
      ],
      "text/plain": [
       "          Date    Store    Product  Quantity  Revenue  Revenue_per_unit  \\\n",
       "0   2023-01-01  Store 1  Product A        10      100         10.000000   \n",
       "1   2023-01-02  Store 1  Product B         5       75         15.000000   \n",
       "2   2023-01-03  Store 2  Product A        20      200         10.000000   \n",
       "3   2023-01-04  Store 2  Product C         8      120         15.000000   \n",
       "4   2023-01-05  Store 3  Product B        15      150         10.000000   \n",
       "5   2023-01-06  Store 3  Product A        30      300         10.000000   \n",
       "6   2023-01-07  Store 1  Product C        12      180         15.000000   \n",
       "7   2023-01-08  Store 1  Product A         8       80         10.000000   \n",
       "8   2023-01-09  Store 2  Product B        10      100         10.000000   \n",
       "9   2023-01-10  Store 3  Product C         6       90         15.000000   \n",
       "10  2023-01-11  Store 2  Product A        25      250         10.000000   \n",
       "11  2023-01-12  Store 1  Product B        10       70          7.000000   \n",
       "12  2023-01-13  Store 3  Product A        15      160         10.666667   \n",
       "13  2023-01-14  Store 2  Product C         9      110         12.222222   \n",
       "14  2023-01-15  Store 3  Product B        18      175          9.722222   \n",
       "\n",
       "    Cumulative_Revenue  \n",
       "0                  100  \n",
       "1                   75  \n",
       "2                  200  \n",
       "3                  120  \n",
       "4                  150  \n",
       "5                  300  \n",
       "6                  180  \n",
       "7                   80  \n",
       "8                  100  \n",
       "9                   90  \n",
       "10                 250  \n",
       "11                  70  \n",
       "12                 160  \n",
       "13                 110  \n",
       "14                 175  "
      ]
     },
     "execution_count": 64,
     "metadata": {},
     "output_type": "execute_result"
    }
   ],
   "source": [
    "sorted = sales.sort_values(by=['Store','Product'])\n",
    "sales['Cumulative_Revenue'] = sorted.groupby(['Store','Date'])['Revenue'].cumsum()\n",
    "sales"
   ]
  },
  {
   "cell_type": "markdown",
   "metadata": {},
   "source": [
    "##### 5.Advance Analysis"
   ]
  },
  {
   "cell_type": "code",
   "execution_count": 76,
   "metadata": {},
   "outputs": [
    {
     "name": "stdout",
     "output_type": "stream",
     "text": [
      "0.953\n"
     ]
    }
   ],
   "source": [
    "correlation = sales['Quantity'].corr(sales['Revenue'])\n",
    "print(f'{correlation:.3f}')\n"
   ]
  },
  {
   "cell_type": "code",
   "execution_count": 85,
   "metadata": {},
   "outputs": [
    {
     "data": {
      "text/plain": [
       "Product\n",
       "Product A    50.462963\n",
       "Product B    26.388889\n",
       "Product C    23.148148\n",
       "Name: Per%, dtype: float64"
      ]
     },
     "execution_count": 85,
     "metadata": {},
     "output_type": "execute_result"
    }
   ],
   "source": [
    "# a new column has created then product group by it \n",
    "sales['Per%'] = (sales.Revenue/sales.Revenue.sum())*100\n",
    "sales.groupby('Product')['Per%'].sum()"
   ]
  },
  {
   "cell_type": "code",
   "execution_count": 103,
   "metadata": {},
   "outputs": [
    {
     "name": "stdout",
     "output_type": "stream",
     "text": [
      "Store 2 has highest average per sale 11.44\n"
     ]
    }
   ],
   "source": [
    "avg_rev_pro = sales.groupby('Store')['Revenue_per_unit'].mean()\n",
    "max_store = avg_rev_pro.idxmax()\n",
    "rev_  = avg_rev_pro.max()\n",
    "print(f'{max_store} has highest average per sale {rev_:.2f}')"
   ]
  },
  {
   "cell_type": "code",
   "execution_count": null,
   "metadata": {},
   "outputs": [],
   "source": []
  }
 ],
 "metadata": {
  "kernelspec": {
   "display_name": "Python 3",
   "language": "python",
   "name": "python3"
  },
  "language_info": {
   "codemirror_mode": {
    "name": "ipython",
    "version": 3
   },
   "file_extension": ".py",
   "mimetype": "text/x-python",
   "name": "python",
   "nbconvert_exporter": "python",
   "pygments_lexer": "ipython3",
   "version": "3.12.4"
  }
 },
 "nbformat": 4,
 "nbformat_minor": 2
}
